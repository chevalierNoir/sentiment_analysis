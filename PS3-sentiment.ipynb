{
 "cells": [
  {
   "cell_type": "code",
   "execution_count": 1,
   "metadata": {
    "collapsed": false
   },
   "outputs": [],
   "source": [
    "from __future__ import absolute_import\n",
    "from __future__ import division\n",
    "from __future__ import print_function\n",
    "\n",
    "from utils import *\n",
    "\n",
    "import numpy as np\n",
    "import cvxopt\n",
    "\n",
    "cvxopt.solvers.options['show_progress'] = False\n",
    "\n",
    "%matplotlib inline"
   ]
  },
  {
   "cell_type": "code",
   "execution_count": 2,
   "metadata": {
    "collapsed": false
   },
   "outputs": [
    {
     "name": "stdout",
     "output_type": "stream",
     "text": [
      "Feature size:  1464\n"
     ]
    }
   ],
   "source": [
    "\"\"\"\n",
    "Get the preprocessed data:\n",
    "X and y are dicts, has keys train, val and test. keys gives you what word (or pair of words) each dimension corresponds to.\n",
    "\n",
    "You can also get bigram features if you call preprocess(bigram = True)`\n",
    "Another optional argument mincount specifies the frequency cutoff for inclusion of a word/bigram in the\n",
    "dictionary.\n",
    "\n",
    "\"\"\"\n",
    "\n",
    "X, y, keys = preprocess()"
   ]
  },
  {
   "cell_type": "code",
   "execution_count": 3,
   "metadata": {
    "collapsed": true
   },
   "outputs": [],
   "source": [
    "class Kernel(object):\n",
    "    \"\"\"\n",
    "    A class containing all kinds of kernels.\n",
    "    Note: the kernel should work for both input (Matrix, vector) and (vector, vector)\n",
    "    \"\"\"\n",
    "    @staticmethod\n",
    "    def linear():\n",
    "        def f(x, y):\n",
    "            return np.dot(x, y)\n",
    "        return f\n",
    "\n",
    "    @staticmethod\n",
    "    def gaussian(gamma):  # we use the commonly used name, although it's not really a Gaussian\n",
    "        def f(x, y):\n",
    "            exponent = - gamma * np.linalg.norm((x-y).transpose(), 2, 0) ** 2\n",
    "            return np.exp(exponent)\n",
    "        return f\n",
    "\n",
    "    @staticmethod\n",
    "    def _poly(dimension, offset):\n",
    "        def f(x, y):\n",
    "            return (offset + np.dot(x, y)) ** dimension\n",
    "        return f\n",
    "\n",
    "    @staticmethod\n",
    "    def inhomogenous_polynomial(dimension):\n",
    "        return Kernel._poly(dimension=dimension, offset=1.0)\n",
    "\n",
    "    @staticmethod\n",
    "    def homogenous_polynomial(dimension):\n",
    "        return Kernel._poly(dimension=dimension, offset=0.0)\n",
    "\n",
    "    @staticmethod\n",
    "    def hyperbolic_tangent(kappa, c):\n",
    "        def f(x, y):\n",
    "            return np.tanh(kappa * np.dot(x, y) + c)\n",
    "        return f"
   ]
  },
  {
   "cell_type": "code",
   "execution_count": 4,
   "metadata": {
    "collapsed": false
   },
   "outputs": [],
   "source": [
    "class SVM(object):\n",
    "    def __init__(self, kernel, c):\n",
    "        \"\"\"\n",
    "        Build a SVM given kernel function and C\n",
    "\n",
    "        Parameters\n",
    "        ----------\n",
    "        kernel : function\n",
    "            a function takes input (Matrix, vector) or (vector, vector)\n",
    "        c : a scalar\n",
    "            balance term\n",
    "\n",
    "        Returns\n",
    "        -------\n",
    "        \"\"\"\n",
    "        self._kernel = kernel\n",
    "        self._c = c\n",
    "\n",
    "    def fit(self, X, y):\n",
    "        \"\"\"\n",
    "        Fit the model given data X and ground truth label y\n",
    "\n",
    "        Parameters\n",
    "        ----------\n",
    "        X : 2D array\n",
    "            N x d data matrix (row per example)\n",
    "        y : 1D array\n",
    "            class label\n",
    "\n",
    "        Returns\n",
    "        -------\n",
    "        \"\"\"\n",
    "        # Solve the QP problem to get the multipliers\n",
    "        lagrange_multipliers = self._compute_multipliers(X, y)\n",
    "        # Get all the support vectors, support weights and bias\n",
    "        self._construct_predictor(X, y, lagrange_multipliers)\n",
    "    \n",
    "    def predict(self, X):\n",
    "        \"\"\"\n",
    "        Predict the label given data X\n",
    "\n",
    "        Parameters\n",
    "        ----------\n",
    "        X : 2D array\n",
    "            N x d data matrix (row per example)\n",
    "\n",
    "        Returns\n",
    "        -------\n",
    "        y : 1D array\n",
    "            predicted label\n",
    "        \"\"\"\n",
    "        result = np.full(X.shape[0], self._bias) # allocate\n",
    "        \n",
    "#         YOUR CODE HERE\n",
    "        for ind in range(X.shape[0]):\n",
    "            K = self._kernel(self._support_vectors, X[ind])\n",
    "            result[ind] = np.sum(np.multiply(self._weights, np.multiply(self._support_vector_labels, K))) + self._bias\n",
    "        return np.sign(result)\n",
    "\n",
    "    def _kernel_matrix(self, X):\n",
    "        \"\"\"\n",
    "        Get the kernel matrix.\n",
    "\n",
    "        Parameters\n",
    "        ----------\n",
    "        X : 2D array\n",
    "            N x d data matrix (row per example)\n",
    "\n",
    "        Returns\n",
    "        -------\n",
    "        K : 2D array\n",
    "            N x N kernel matrix\n",
    "        \"\"\"\n",
    "        N, d = X.shape\n",
    "        K = np.zeros((N, N))\n",
    "        for i, x_i in enumerate(X):\n",
    "            for j, x_j in enumerate(X):\n",
    "                K[i, j] = self._kernel(x_i, x_j)\n",
    "        return K\n",
    "\n",
    "    def _construct_predictor(self, X, y, lagrange_multipliers):\n",
    "        \"\"\"\n",
    "        Given the data, label and the multipliers, extract the support vectors and calculate the bias\n",
    "\n",
    "        Parameters\n",
    "        ----------\n",
    "        X : 2D array\n",
    "            N x d data matrix (row per example)\n",
    "        y : 1D array\n",
    "            class label\n",
    "        lagrange_multipliers: 1D array\n",
    "            the solution of lagrange_multiplier\n",
    "\n",
    "        Fills in relevant variables: model bias and weights (alphas), and details of support vectors\n",
    "        \n",
    "        -------\n",
    "        \"\"\"\n",
    "        support_vector_indices = \\\n",
    "            lagrange_multipliers > 1e-5\n",
    "            \n",
    "        print(\"SV number: \", np.sum(support_vector_indices))\n",
    "\n",
    "        support_multipliers = lagrange_multipliers[support_vector_indices]\n",
    "        support_vectors = X[support_vector_indices]\n",
    "        support_vector_labels = y[support_vector_indices]\n",
    "\n",
    "        \"\"\"\n",
    "        Get the bias term (w_0)\n",
    "        \"\"\"\n",
    "#         YOUR CODE HERE\n",
    "        # alpha<C and y = +1 or -1\n",
    "#         indm = []\n",
    "#         indp = []\n",
    "        K = self._kernel_matrix(X)\n",
    "#         for index in support_vector_indices:\n",
    "#             if y[index] == 1 and support_multipliers[index] < self._c - 1e-5:\n",
    "#                 indp.append(index)\n",
    "#             if y[index] == 0 and support_multipliers[index] < self._c - 1e-5:\n",
    "#                 indm.append(index)\n",
    "#         print(\"indm:\", indm)\n",
    "#         print(\"indp:\", indp)\n",
    "\n",
    "        support_kernels = K.T[support_vector_indices]\n",
    "        sv_number = np.sum(support_vector_indices)\n",
    "        N = y.shape\n",
    "#         km = np.zeros(N)\n",
    "#         kp = np.zeros(N)\n",
    "#         nkm = 0\n",
    "#         nkp = 0\n",
    "#         for ind in range(sv_number):\n",
    "#             if support_multipliers[ind] < self._c - 1e-5 and y[ind] == 1:\n",
    "#                 nkp = nkp + 1.0\n",
    "#                 kp = (kp + support_kernels[ind])/nkp\n",
    "#             if support_multipliers[ind] < self._c - 1e-5 and y[ind] == -1:\n",
    "#                 nkm = nkm + 1.0\n",
    "#                 km = (km + support_kernels[ind])/nkm      \n",
    "#         bm = np.sum(np.multiply(lagrange_multipliers, np.multiply(y, km)))\n",
    "#         bp = np.sum(np.multiply(lagrange_multipliers, np.multiply(y, kp)))\n",
    "#         bias = -(bm + bp)/2.0\n",
    "        omega0 = []\n",
    "        for ind in range(sv_number):\n",
    "            if support_multipliers[ind] < self._c - 1e-5:\n",
    "                omega0.append(1.0/y[ind] - np.sum(np.multiply(lagrange_multipliers, np.multiply(y, support_kernels[ind]))))\n",
    "        bias = np.mean(omega0)\n",
    "        print(\"bias mean/std:{}/{}\".format(bias, np.std(omega0)))\n",
    "    \n",
    "        self._bias=bias\n",
    "        self._weights=support_multipliers\n",
    "        self._support_vectors=support_vectors\n",
    "        self._support_vector_labels=support_vector_labels\n",
    "\n",
    "    def _compute_multipliers(self, X, y):\n",
    "        \"\"\"\n",
    "        Given the data, label, solve the QP program to get lagrange multiplier.\n",
    "\n",
    "        Parameters\n",
    "        ----------\n",
    "        X : 2D array\n",
    "            N x d data matrix (row per example)\n",
    "        y : 1D array\n",
    "            class label\n",
    "\n",
    "        Returns\n",
    "        lagrange_multipliers: 1D array\n",
    "        -------\n",
    "        \"\"\"\n",
    "        N, d = X.shape\n",
    "\n",
    "        K = self._kernel_matrix(X)\n",
    "        \"\"\"\n",
    "        The standard QP solver formulation:\n",
    "        min 1/2 x^T H x + f^T x\n",
    "        s.t.\n",
    "        Ax <=  a\n",
    "        Bx = b\n",
    "        \"\"\"\n",
    "        H = np.dot(np.dot(np.diag(y), K),np.diag(y))\n",
    "        H = cvxopt.matrix(H)\n",
    "        f = -np.ones([N])\n",
    "        f = cvxopt.matrix(f)\n",
    "\n",
    "        A = np.concatenate((np.eye(N), -np.eye(N)), axis = 0)\n",
    "        a = np.concatenate((self._c * np.ones(N), np.zeros(N)))\n",
    "        A = cvxopt.matrix(A)\n",
    "        a = cvxopt.matrix(a)\n",
    "        \n",
    "        \n",
    "\n",
    "        B = y\n",
    "        b = np.zeros([1])\n",
    "        B = cvxopt.matrix(B).T\n",
    "        b = cvxopt.matrix(b)\n",
    "#         print(B.size)\n",
    "        \n",
    "        # call the QP solver\n",
    "        solution = cvxopt.solvers.qp(H, f, A, a, B, b)\n",
    "\n",
    "        # Lagrange multipliers (the unknown vector 'x' is our alphas)\n",
    "        return np.ravel(solution['x'])"
   ]
  },
  {
   "cell_type": "markdown",
   "metadata": {},
   "source": [
    "Test the trainer.\n",
    "The following code would generate data which the grounth truth split is x+y = 0.5."
   ]
  },
  {
   "cell_type": "code",
   "execution_count": 5,
   "metadata": {
    "collapsed": false
   },
   "outputs": [
    {
     "name": "stdout",
     "output_type": "stream",
     "text": [
      "SV number:  7\n",
      "bias mean/std:-4.94462219174/9.22599419739e-09\n"
     ]
    },
    {
     "data": {
      "image/png": "[encoded data removed]",
      "text/plain": [
       "<matplotlib.figure.Figure at 0x36d7490>"
      ]
     },
     "metadata": {},
     "output_type": "display_data"
    }
   ],
   "source": [
    "clf = SVM(Kernel.linear(), 100)\n",
    "test_linear_SVM(clf, 100)"
   ]
  },
  {
   "cell_type": "code",
   "execution_count": 6,
   "metadata": {
    "collapsed": false
   },
   "outputs": [
    {
     "name": "stdout",
     "output_type": "stream",
     "text": [
      "SV number:  12\n",
      "bias mean/std:6.80989713461/1.98761598089\n"
     ]
    },
    {
     "data": {
      "image/png": "[encoded data removed]",
      "text/plain": [
       "<matplotlib.figure.Figure at 0x40fec10>"
      ]
     },
     "metadata": {},
     "output_type": "display_data"
    }
   ],
   "source": [
    "clf = SVM(Kernel.gaussian(1), 100)\n",
    "test_rbf_SVM(clf, 100)"
   ]
  },
  {
   "cell_type": "markdown",
   "metadata": {},
   "source": [
    "If you think your code is correct, then we can move to the real problem. Below are some code examples; you will need to fill in some details, and extend these to any experiments you want to run."
   ]
  },
  {
   "cell_type": "code",
   "execution_count": 7,
   "metadata": {
    "collapsed": false
   },
   "outputs": [
    {
     "name": "stdout",
     "output_type": "stream",
     "text": [
      "SV number:  1641\n",
      "bias mean/std:0.358954629591/1.37166381726\n",
      "C =  0.1\n",
      "Acc on train:  0.892252252252\n",
      "Acc on val:  0.73\n",
      "SV number:  1532\n",
      "bias mean/std:0.41561878796/1.35381640396\n",
      "C =  0.2\n",
      "Acc on train:  0.918558558559\n",
      "Acc on val:  0.734\n",
      "SV number:  1460\n",
      "bias mean/std:0.476124894552/1.32703839573\n",
      "C =  0.3\n",
      "Acc on train:  0.929369369369\n",
      "Acc on val:  0.724\n",
      "SV number:  1400\n",
      "bias mean/std:0.595369025716/1.37382550789\n",
      "C =  0.4\n",
      "Acc on train:  0.931531531532\n",
      "Acc on val:  0.728\n",
      "SV number:  1366\n",
      "bias mean/std:0.672586050233/1.40097699145\n",
      "C =  0.5\n",
      "Acc on train:  0.938378378378\n",
      "Acc on val:  0.732\n",
      "SV number:  1333\n",
      "bias mean/std:0.666741271841/1.36982946422\n",
      "C =  0.6\n",
      "Acc on train:  0.943063063063\n",
      "Acc on val:  0.728\n",
      "SV number:  1316\n",
      "bias mean/std:0.747781982658/1.38202965241\n",
      "C =  0.7\n",
      "Acc on train:  0.945585585586\n",
      "Acc on val:  0.726\n",
      "SV number:  1301\n",
      "bias mean/std:0.761806349733/1.41706068535\n",
      "C =  0.8\n",
      "Acc on train:  0.94990990991\n",
      "Acc on val:  0.722\n",
      "SV number:  1279\n",
      "bias mean/std:0.771199937577/1.37506007051\n",
      "C =  0.9\n",
      "Acc on train:  0.951711711712\n",
      "Acc on val:  0.722\n",
      "SV number:  1268\n",
      "bias mean/std:0.771918793337/1.34771482026\n",
      "C =  1.0\n",
      "Acc on train:  0.953153153153\n",
      "Acc on val:  0.722\n"
     ]
    }
   ],
   "source": [
    "c_range = [i/10.0 for i in range(1, 11)] \n",
    "c_max = 0\n",
    "acc_max = -10\n",
    "for C in c_range:\n",
    "    clf = SVM(Kernel.linear(), C)\n",
    "    clf.fit(X['train'], y['train'].astype('double'))\n",
    "    print(\"C = \", C)\n",
    "    y_hat = clf.predict(X['train'])\n",
    "    print(\"Acc on train: \", np.mean(y_hat == y['train']))\n",
    "    y_hat = clf.predict(X['val'])\n",
    "    print(\"Acc on val: \", np.mean(y_hat == y['val']))\n",
    "    acc = np.mean(y_hat == y['val'])\n",
    "    if acc > acc_max:\n",
    "        c_max = C\n",
    "        acc_max = acc"
   ]
  },
  {
   "cell_type": "markdown",
   "metadata": {},
   "source": [
    "Choose the best C, and predict the label for test data."
   ]
  },
  {
   "cell_type": "code",
   "execution_count": 8,
   "metadata": {
    "collapsed": false
   },
   "outputs": [
    {
     "name": "stdout",
     "output_type": "stream",
     "text": [
      "SV number:  1532\n",
      "bias mean/std:0.41561878796/1.35381640396\n"
     ]
    }
   ],
   "source": [
    "C = c_max\n",
    "clf = SVM(Kernel.linear(), C)\n",
    "clf.fit(X['train'], y['train'].astype('double'))\n",
    "y_hat = clf.predict(X['test'])\n",
    "save_submission('sub_linear.csv', y_hat)\n"
   ]
  },
  {
   "cell_type": "markdown",
   "metadata": {},
   "source": [
    "RBF (Gaussian) kernel SVM"
   ]
  },
  {
   "cell_type": "code",
   "execution_count": 13,
   "metadata": {
    "collapsed": false
   },
   "outputs": [
    {
     "name": "stdout",
     "output_type": "stream",
     "text": [
      "SV number:  2064\n",
      "bias mean/std:-1.84072471768/1.20750043086\n",
      "C =  1.0\n",
      "gamma =  0.01\n",
      "Acc on train:  0.831711711712\n",
      "Acc on val:  0.712\n",
      "SV number:  2114\n",
      "bias mean/std:-0.227589412332/1.27259239477\n",
      "C =  1.0\n",
      "gamma =  0.05\n",
      "Acc on train:  0.937297297297\n",
      "Acc on val:  0.742\n",
      "SV number:  2348\n",
      "bias mean/std:-0.100502273259/1.32818836487\n",
      "C =  1.0\n",
      "gamma =  0.1\n",
      "Acc on train:  0.983063063063\n",
      "Acc on val:  0.74\n",
      "SV number:  2615\n",
      "bias mean/std:-0.292491699319/1.15163218432\n",
      "C =  1.0\n",
      "gamma =  0.2\n",
      "Acc on train:  0.994954954955\n",
      "Acc on val:  0.552\n",
      "SV number:  2711\n",
      "bias mean/std:-0.363841953872/1.01912670283\n",
      "C =  1.0\n",
      "gamma =  0.3\n",
      "Acc on train:  0.998918918919\n",
      "Acc on val:  0.42\n",
      "SV number:  2743\n",
      "bias mean/std:-0.37239270274/0.977556807877\n",
      "C =  1.0\n",
      "gamma =  0.4\n",
      "Acc on train:  0.99963963964\n",
      "Acc on val:  0.386\n",
      "SV number:  2756\n",
      "bias mean/std:-0.345207236247/0.961032533621\n",
      "C =  1.0\n",
      "gamma =  0.5\n",
      "Acc on train:  1.0\n",
      "Acc on val:  0.368\n",
      "SV number:  2767\n",
      "bias mean/std:-0.276806685449/0.947055555782\n",
      "C =  1.0\n",
      "gamma =  0.6\n",
      "Acc on train:  1.0\n",
      "Acc on val:  0.366\n",
      "SV number:  2774\n",
      "bias mean/std:-0.0333768306041/0.830829910988\n",
      "C =  1.0\n",
      "gamma =  0.7\n",
      "Acc on train:  1.0\n",
      "Acc on val:  0.416\n",
      "SV number:  2774\n",
      "bias mean/std:-0.026367803582/0.830824956532\n",
      "C =  1.0\n",
      "gamma =  0.8\n",
      "Acc on train:  1.0\n",
      "Acc on val:  0.404\n",
      "SV number:  2775\n",
      "bias mean/std:0.417623942971/0.000201000745226\n",
      "C =  1.0\n",
      "gamma =  0.9\n",
      "Acc on train:  1.0\n",
      "Acc on val:  0.67\n"
     ]
    }
   ],
   "source": [
    "c_range = [1.0] \n",
    "gamma_range = [0.01, 0.05]\n",
    "gamma_range = gamma_range + [i/10.0 for i in range(1, 10)]\n",
    "c_max = 0\n",
    "gamma_max = 0\n",
    "acc_max = -10\n",
    "for C in c_range:\n",
    "    for gamma in gamma_range:\n",
    "        clf = SVM(Kernel.gaussian(gamma), C)\n",
    "        clf.fit(X['train'], y['train'].astype('double'))\n",
    "        print(\"C = \", C)\n",
    "        print(\"gamma = \", gamma)\n",
    "        y_hat = clf.predict(X['train'])\n",
    "        print(\"Acc on train: \", np.mean(y_hat == y['train']))\n",
    "        y_hat = clf.predict(X['val'])\n",
    "        print(\"Acc on val: \", np.mean(y_hat == y['val']))\n",
    "        acc = np.mean(y_hat == y['val'])\n",
    "        if acc > acc_max:\n",
    "            gamma_max = gamma\n",
    "            c_max = C\n",
    "            acc_max = acc\n",
    "        "
   ]
  },
  {
   "cell_type": "code",
   "execution_count": 10,
   "metadata": {
    "collapsed": false
   },
   "outputs": [
    {
     "name": "stdout",
     "output_type": "stream",
     "text": [
      "SV number:  2354\n",
      "bias mean/std:0.270462699401/0.959597593352\n"
     ]
    }
   ],
   "source": [
    "clf = SVM(Kernel.gaussian(gamma_max), c_max)\n",
    "clf.fit(X['train'], y['train'].astype('double'))\n",
    "y_hat = clf.predict(X['test'])\n",
    "save_submission('sub_rbf.csv', y_hat)\n"
   ]
  },
  {
   "cell_type": "code",
   "execution_count": null,
   "metadata": {
    "collapsed": true
   },
   "outputs": [],
   "source": []
  }
 ],
 "metadata": {
  "kernelspec": {
   "display_name": "Python 2",
   "language": "python",
   "name": "python2"
  },
  "language_info": {
   "codemirror_mode": {
    "name": "ipython",
    "version": 2
   },
   "file_extension": ".py",
   "mimetype": "text/x-python",
   "name": "python",
   "nbconvert_exporter": "python",
   "pygments_lexer": "ipython2",
   "version": "2.7.5"
  }
 },
 "nbformat": 4,
 "nbformat_minor": 0
}

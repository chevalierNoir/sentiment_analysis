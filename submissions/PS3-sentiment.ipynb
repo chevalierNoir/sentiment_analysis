{
 "cells": [
  {
   "cell_type": "code",
   "execution_count": 1,
   "metadata": {
    "collapsed": false
   },
   "outputs": [],
   "source": [
    "from __future__ import absolute_import\n",
    "from __future__ import division\n",
    "from __future__ import print_function\n",
    "\n",
    "from utils import *\n",
    "\n",
    "import numpy as np\n",
    "import cvxopt\n",
    "\n",
    "cvxopt.solvers.options['show_progress'] = False\n",
    "\n",
    "%matplotlib inline"
   ]
  },
  {
   "cell_type": "code",
   "execution_count": 2,
   "metadata": {
    "collapsed": false
   },
   "outputs": [
    {
     "name": "stdout",
     "output_type": "stream",
     "text": [
      "Feature size:  2049\n"
     ]
    }
   ],
   "source": [
    "\"\"\"\n",
    "Get the preprocessed data:\n",
    "X and y are dicts, has keys train, val and test. keys gives you what word (or pair of words) each dimension corresponds to.\n",
    "\n",
    "You can also get bigram features if you call preprocess(bigram = True)`\n",
    "Another optional argument mincount specifies the frequency cutoff for inclusion of a word/bigram in the\n",
    "dictionary.\n",
    "\n",
    "\"\"\"\n",
    "# Our best parameter is bigram = True and mincount = 1. Although we set mincount = 5 here because it takes long time\n",
    "# to run when mincount is small.\n",
    "X, y, keys = preprocess(use_bigram = True, mincount = 5)"
   ]
  },
  {
   "cell_type": "code",
   "execution_count": 3,
   "metadata": {
    "collapsed": true
   },
   "outputs": [],
   "source": [
    "class Kernel(object):\n",
    "    \"\"\"\n",
    "    A class containing all kinds of kernels.\n",
    "    Note: the kernel should work for both input (Matrix, vector) and (vector, vector)\n",
    "    \"\"\"\n",
    "    @staticmethod\n",
    "    def linear():\n",
    "        def f(x, y):\n",
    "            return np.dot(x, y)\n",
    "        return f\n",
    "\n",
    "    @staticmethod\n",
    "    def gaussian(gamma):  # we use the commonly used name, although it's not really a Gaussian\n",
    "        def f(x, y):\n",
    "            exponent = - gamma * np.linalg.norm((x-y).transpose(), 2, 0) ** 2\n",
    "            return np.exp(exponent)\n",
    "        return f\n",
    "\n",
    "    @staticmethod\n",
    "    def _poly(dimension, offset):\n",
    "        def f(x, y):\n",
    "            return (offset + np.dot(x, y)) ** dimension\n",
    "        return f\n",
    "\n",
    "    @staticmethod\n",
    "    def inhomogenous_polynomial(dimension):\n",
    "        return Kernel._poly(dimension=dimension, offset=1.0)\n",
    "\n",
    "    @staticmethod\n",
    "    def homogenous_polynomial(dimension):\n",
    "        return Kernel._poly(dimension=dimension, offset=0.0)\n",
    "\n",
    "    @staticmethod\n",
    "    def hyperbolic_tangent(kappa, c):\n",
    "        def f(x, y):\n",
    "            return np.tanh(kappa * np.dot(x, y) + c)\n",
    "        return f"
   ]
  },
  {
   "cell_type": "code",
   "execution_count": 4,
   "metadata": {
    "collapsed": false
   },
   "outputs": [],
   "source": [
    "class SVM(object):\n",
    "    def __init__(self, kernel, c):\n",
    "        \"\"\"\n",
    "        Build a SVM given kernel function and C\n",
    "\n",
    "        Parameters\n",
    "        ----------\n",
    "        kernel : function\n",
    "            a function takes input (Matrix, vector) or (vector, vector)\n",
    "        c : a scalar\n",
    "            balance term\n",
    "\n",
    "        Returns\n",
    "        -------\n",
    "        \"\"\"\n",
    "        self._kernel = kernel\n",
    "        self._c = c\n",
    "\n",
    "    def fit(self, X, y):\n",
    "        \"\"\"\n",
    "        Fit the model given data X and ground truth label y\n",
    "\n",
    "        Parameters\n",
    "        ----------\n",
    "        X : 2D array\n",
    "            N x d data matrix (row per example)\n",
    "        y : 1D array\n",
    "            class label\n",
    "\n",
    "        Returns\n",
    "        -------\n",
    "        \"\"\"\n",
    "        # Solve the QP problem to get the multipliers\n",
    "        lagrange_multipliers = self._compute_multipliers(X, y)\n",
    "        # Get all the support vectors, support weights and bias\n",
    "        self._construct_predictor(X, y, lagrange_multipliers)\n",
    "    \n",
    "    def predict(self, X):\n",
    "        \"\"\"\n",
    "        Predict the label given data X\n",
    "\n",
    "        Parameters\n",
    "        ----------\n",
    "        X : 2D array\n",
    "            N x d data matrix (row per example)\n",
    "\n",
    "        Returns\n",
    "        -------\n",
    "        y : 1D array\n",
    "            predicted label\n",
    "        \"\"\"\n",
    "        result = np.full(X.shape[0], self._bias) # allocate\n",
    "        \n",
    "#         YOUR CODE HERE\n",
    "        for ind in range(X.shape[0]):\n",
    "            K = self._kernel(self._support_vectors, X[ind])\n",
    "            result[ind] = np.sum(np.multiply(self._weights, np.multiply(self._support_vector_labels, K))) + self._bias\n",
    "        return np.sign(result)\n",
    "\n",
    "    def _kernel_matrix(self, X):\n",
    "        \"\"\"\n",
    "        Get the kernel matrix.\n",
    "\n",
    "        Parameters\n",
    "        ----------\n",
    "        X : 2D array\n",
    "            N x d data matrix (row per example)\n",
    "\n",
    "        Returns\n",
    "        -------\n",
    "        K : 2D array\n",
    "            N x N kernel matrix\n",
    "        \"\"\"\n",
    "        N, d = X.shape\n",
    "        K = np.zeros((N, N))\n",
    "        for i, x_i in enumerate(X):\n",
    "            for j, x_j in enumerate(X):\n",
    "                K[i, j] = self._kernel(x_i, x_j)\n",
    "        return K\n",
    "\n",
    "    def _construct_predictor(self, X, y, lagrange_multipliers):\n",
    "        \"\"\"\n",
    "        Given the data, label and the multipliers, extract the support vectors and calculate the bias\n",
    "\n",
    "        Parameters\n",
    "        ----------\n",
    "        X : 2D array\n",
    "            N x d data matrix (row per example)\n",
    "        y : 1D array\n",
    "            class label\n",
    "        lagrange_multipliers: 1D array\n",
    "            the solution of lagrange_multiplier\n",
    "\n",
    "        Fills in relevant variables: model bias and weights (alphas), and details of support vectors\n",
    "        \n",
    "        -------\n",
    "        \"\"\"\n",
    "        support_vector_indices = \\\n",
    "            lagrange_multipliers > 1e-5\n",
    "            \n",
    "        print(\"SV number: \", np.sum(support_vector_indices))\n",
    "\n",
    "        support_multipliers = lagrange_multipliers[support_vector_indices]\n",
    "        support_vectors = X[support_vector_indices]\n",
    "        support_vector_labels = y[support_vector_indices]\n",
    "\n",
    "        \"\"\"\n",
    "        Get the bias term (w_0)\n",
    "        \"\"\"\n",
    "#         YOUR CODE HERE\n",
    "        K = self._kernel_matrix(X)\n",
    "\n",
    "\n",
    "        support_kernels = K.T[support_vector_indices]\n",
    "        sv_number = np.sum(support_vector_indices)\n",
    "        N = y.shape\n",
    "        omega0 = []\n",
    "        for ind in range(sv_number):\n",
    "            if support_multipliers[ind] < self._c - 1e-5:\n",
    "                omega0.append(1.0/support_vector_labels[ind] - np.sum(np.multiply(lagrange_multipliers, np.multiply(y, support_kernels[ind]))))\n",
    "        bias = np.mean(omega0)\n",
    "        print(\"bias mean/std:{}/{}\".format(bias, np.std(omega0)))\n",
    "    \n",
    "        self._bias=bias\n",
    "        self._weights=support_multipliers\n",
    "        self._support_vectors=support_vectors\n",
    "        self._support_vector_labels=support_vector_labels\n",
    "\n",
    "    def _compute_multipliers(self, X, y):\n",
    "        \"\"\"\n",
    "        Given the data, label, solve the QP program to get lagrange multiplier.\n",
    "\n",
    "        Parameters\n",
    "        ----------\n",
    "        X : 2D array\n",
    "            N x d data matrix (row per example)\n",
    "        y : 1D array\n",
    "            class label\n",
    "\n",
    "        Returns\n",
    "        lagrange_multipliers: 1D array\n",
    "        -------\n",
    "        \"\"\"\n",
    "        N, d = X.shape\n",
    "\n",
    "        K = self._kernel_matrix(X)\n",
    "        \"\"\"\n",
    "        The standard QP solver formulation:\n",
    "        min 1/2 x^T H x + f^T x\n",
    "        s.t.\n",
    "        Ax <=  a\n",
    "        Bx = b\n",
    "        \"\"\"\n",
    "        H = np.dot(np.dot(np.diag(y), K),np.diag(y))\n",
    "        H = cvxopt.matrix(H)\n",
    "        f = -np.ones([N])\n",
    "        f = cvxopt.matrix(f)\n",
    "\n",
    "        A = np.concatenate((np.eye(N), -np.eye(N)), axis = 0)\n",
    "        a = np.concatenate((self._c * np.ones(N), np.zeros(N)))\n",
    "        A = cvxopt.matrix(A)\n",
    "        a = cvxopt.matrix(a)\n",
    "        \n",
    "        \n",
    "\n",
    "        B = y\n",
    "        b = np.zeros([1])\n",
    "        B = cvxopt.matrix(B).T\n",
    "        b = cvxopt.matrix(b)\n",
    "#         print(B.size)\n",
    "        \n",
    "        # call the QP solver\n",
    "        solution = cvxopt.solvers.qp(H, f, A, a, B, b)\n",
    "\n",
    "        # Lagrange multipliers (the unknown vector 'x' is our alphas)\n",
    "        return np.ravel(solution['x'])"
   ]
  },
  {
   "cell_type": "markdown",
   "metadata": {},
   "source": [
    "Test the trainer.\n",
    "The following code would generate data which the grounth truth split is x+y = 0.5."
   ]
  },
  {
   "cell_type": "code",
   "execution_count": 5,
   "metadata": {
    "collapsed": false
   },
   "outputs": [
    {
     "name": "stdout",
     "output_type": "stream",
     "text": [
      "SV number:  4\n",
      "bias mean/std:-5.0910280313/0.0496562519769\n"
     ]
    },
    {
     "data": {
      "image/png": "[encoded data removed]",
      "text/plain": [
       "<matplotlib.figure.Figure at 0x4c458d0>"
      ]
     },
     "metadata": {},
     "output_type": "display_data"
    }
   ],
   "source": [
    "clf = SVM(Kernel.linear(), 100)\n",
    "test_linear_SVM(clf, 100)"
   ]
  },
  {
   "cell_type": "code",
   "execution_count": 6,
   "metadata": {
    "collapsed": false
   },
   "outputs": [
    {
     "name": "stdout",
     "output_type": "stream",
     "text": [
      "SV number:  15\n",
      "bias mean/std:8.24828076233/0.0449237414081\n"
     ]
    },
    {
     "data": {
      "image/png": "[encoded data removed]",
      "text/plain": [
       "<matplotlib.figure.Figure at 0x525e190>"
      ]
     },
     "metadata": {},
     "output_type": "display_data"
    }
   ],
   "source": [
    "clf = SVM(Kernel.gaussian(1), 100)\n",
    "test_rbf_SVM(clf, 100)"
   ]
  },
  {
   "cell_type": "markdown",
   "metadata": {},
   "source": [
    "If you think your code is correct, then we can move to the real problem. Below are some code examples; you will need to fill in some details, and extend these to any experiments you want to run."
   ]
  },
  {
   "cell_type": "code",
   "execution_count": 7,
   "metadata": {
    "collapsed": false
   },
   "outputs": [
    {
     "name": "stdout",
     "output_type": "stream",
     "text": [
      "SV number:  2214\n",
      "bias mean/std:0.984902411777/0.000159550671949\n",
      "C =  0.01\n",
      "Acc on train:  0.636396396396\n",
      "Acc on val:  0.67\n",
      "SV number:  2186\n",
      "bias mean/std:0.849170412331/0.000250605800176\n",
      "C =  0.1\n",
      "Acc on train:  0.641801801802\n",
      "Acc on val:  0.67\n",
      "SV number:  1928\n",
      "bias mean/std:0.391146469013/0.00104836621485\n",
      "C =  1.0\n",
      "Acc on train:  0.882882882883\n",
      "Acc on val:  0.73\n",
      "SV number:  1509\n",
      "bias mean/std:0.503731792151/0.002295364908\n",
      "C =  10.0\n",
      "Acc on train:  0.962882882883\n",
      "Acc on val:  0.728\n",
      "SV number:  1323\n",
      "bias mean/std:0.999879049583/0.00246367896646\n",
      "C =  100.0\n",
      "Acc on train:  0.990990990991\n",
      "Acc on val:  0.724\n",
      "best c: 1.0, max acc: 0.73\n"
     ]
    }
   ],
   "source": [
    "# Best C for mincount = 1: C = 10\n",
    "c_range = [pow(10.0, i) for i in range(-2, 3)]\n",
    "c_max = 0\n",
    "acc_max = -10\n",
    "for C in c_range:\n",
    "    clf = SVM(Kernel.linear(), C)\n",
    "    clf.fit(X['train'], y['train'].astype('double'))\n",
    "    print(\"C = \", C)\n",
    "    y_hat = clf.predict(X['train'])\n",
    "    print(\"Acc on train: \", np.mean(y_hat == y['train']))\n",
    "    y_hat = clf.predict(X['val'])\n",
    "    print(\"Acc on val: \", np.mean(y_hat == y['val']))\n",
    "    acc = np.mean(y_hat == y['val'])\n",
    "    if acc > acc_max:\n",
    "        c_max = C\n",
    "        acc_max = acc\n",
    "print(\"best c: {}, max acc: {}\".format(c_max, acc_max))"
   ]
  },
  {
   "cell_type": "markdown",
   "metadata": {},
   "source": [
    "Choose the best C, and predict the label for test data."
   ]
  },
  {
   "cell_type": "code",
   "execution_count": null,
   "metadata": {
    "collapsed": false
   },
   "outputs": [
    {
     "name": "stdout",
     "output_type": "stream",
     "text": [
      "SV number:  1928\n",
      "bias mean/std:0.391146469013/0.00104836621485\n"
     ]
    }
   ],
   "source": [
    "C = c_max\n",
    "clf = SVM(Kernel.linear(), C)\n",
    "clf.fit(X['train'], y['train'].astype('double'))\n",
    "y_hat = clf.predict(X['test'])\n",
    "save_submission('sub_linear.csv', y_hat)\n"
   ]
  },
  {
   "cell_type": "markdown",
   "metadata": {},
   "source": [
    "RBF (Gaussian) kernel SVM"
   ]
  },
  {
   "cell_type": "code",
   "execution_count": null,
   "metadata": {
    "collapsed": false
   },
   "outputs": [
    {
     "name": "stdout",
     "output_type": "stream",
     "text": [
      "SV number:  2301\n",
      "bias mean/std:-0.98052173783/0.0126454039389\n",
      "C =  1.0\n",
      "gamma =  0.1\n",
      "Acc on train:  0.678558558559\n",
      "Acc on val:  0.68\n",
      "SV number:  2495\n",
      "bias mean/std:-0.0888478767012/0.000975085387598\n",
      "C =  1.0\n",
      "gamma =  1.0\n",
      "Acc on train:  0.967927927928\n",
      "Acc on val:  0.736\n",
      "SV number:  2775\n",
      "bias mean/std:0.425476416868/1.91644934755e-07\n",
      "C =  1.0\n",
      "gamma =  10.0\n",
      "Acc on train:  0.992072072072\n",
      "Acc on val:  0.674\n",
      "SV number:  1988\n",
      "bias mean/std:-6.3762337674/0.0272663733717\n",
      "C =  10.0\n",
      "gamma =  0.1\n",
      "Acc on train:  0.928648648649\n",
      "Acc on val:  0.738\n",
      "SV number:  2556\n",
      "bias mean/std:-0.288048094866/0.0011521543799\n",
      "C =  10.0\n",
      "gamma =  1.0\n",
      "Acc on train:  0.992072072072\n",
      "Acc on val:  0.754\n",
      "SV number:  2775\n",
      "bias mean/std:0.270864046129/7.17794087387e-08\n",
      "C =  10.0\n",
      "gamma =  10.0\n",
      "Acc on train:  0.992072072072\n",
      "Acc on val:  0.674\n",
      "SV number:  1705\n",
      "bias mean/std:-7.80783697238/0.00403380127866\n",
      "C =  100.0\n",
      "gamma =  0.1\n",
      "Acc on train:  0.991351351351\n",
      "Acc on val:  0.74\n",
      "SV number:  2623\n",
      "bias mean/std:-0.289168961905/0.0100127389147\n",
      "C =  100.0\n",
      "gamma =  1.0\n",
      "Acc on train:  0.992072072072\n",
      "Acc on val:  0.754\n",
      "SV number:  2775\n",
      "bias mean/std:0.270864044534/2.60328208071e-07\n",
      "C =  100.0\n",
      "gamma =  10.0\n",
      "Acc on train:  0.992072072072\n",
      "Acc on val:  0.674\n",
      "SV number:  1734\n",
      "bias mean/std:-8.01004564351/0.0105198321856\n",
      "C =  1000.0\n",
      "gamma =  0.1\n",
      "Acc on train:  0.992072072072\n",
      "Acc on val:  0.74\n",
      "SV number:  2743\n",
      "bias mean/std:-0.297926629868/0.049468504156\n",
      "C =  1000.0\n",
      "gamma =  1.0\n",
      "Acc on train:  0.992072072072\n",
      "Acc on val:  0.758\n"
     ]
    }
   ],
   "source": [
    "# Best C and gamma for mincount = 1: C = 100.0 and gamma = 0.1\n",
    "c_range = [1.0, 10.0, 100.0, 1000.0] \n",
    "gamma_range = [0.1, 1.0, 10.0]\n",
    "c_max = 0\n",
    "gamma_max = 0\n",
    "acc_max = -10\n",
    "for C in c_range:\n",
    "    for gamma in gamma_range:\n",
    "        clf = SVM(Kernel.gaussian(gamma), C)\n",
    "        clf.fit(X['train'], y['train'].astype('double'))\n",
    "        print(\"C = \", C)\n",
    "        print(\"gamma = \", gamma)\n",
    "        y_hat = clf.predict(X['train'])\n",
    "        print(\"Acc on train: \", np.mean(y_hat == y['train']))\n",
    "        y_hat = clf.predict(X['val'])\n",
    "        print(\"Acc on val: \", np.mean(y_hat == y['val']))\n",
    "        acc = np.mean(y_hat == y['val'])\n",
    "        if acc > acc_max:\n",
    "            gamma_max = gamma\n",
    "            c_max = C\n",
    "            acc_max = acc\n",
    "print(\"best c: {}, best gamma: {}, max acc: {}\".format(c_max, gamma_max, acc_max))"
   ]
  },
  {
   "cell_type": "code",
   "execution_count": null,
   "metadata": {
    "collapsed": false
   },
   "outputs": [],
   "source": [
    "clf = SVM(Kernel.gaussian(gamma_max), c_max)\n",
    "clf.fit(X['train'], y['train'].astype('double'))\n",
    "y_hat = clf.predict(X['test'])\n",
    "save_submission('sub_rbf.csv', y_hat)\n"
   ]
  },
  {
   "cell_type": "code",
   "execution_count": null,
   "metadata": {
    "collapsed": true
   },
   "outputs": [],
   "source": []
  }
 ],
 "metadata": {
  "kernelspec": {
   "display_name": "Python 2",
   "language": "python",
   "name": "python2"
  },
  "language_info": {
   "codemirror_mode": {
    "name": "ipython",
    "version": 2
   },
   "file_extension": ".py",
   "mimetype": "text/x-python",
   "name": "python",
   "nbconvert_exporter": "python",
   "pygments_lexer": "ipython2",
   "version": "2.7.5"
  }
 },
 "nbformat": 4,
 "nbformat_minor": 0
}
